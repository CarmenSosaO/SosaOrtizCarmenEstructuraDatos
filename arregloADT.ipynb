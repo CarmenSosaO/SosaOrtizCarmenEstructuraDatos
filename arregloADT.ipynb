{
  "nbformat": 4,
  "nbformat_minor": 0,
  "metadata": {
    "colab": {
      "name": "arregloADT.ipynb",
      "provenance": [],
      "authorship_tag": "ABX9TyPxI1pVHFQOhAkj4LbnWS6V",
      "include_colab_link": true
    },
    "kernelspec": {
      "name": "python3",
      "display_name": "Python 3"
    },
    "language_info": {
      "name": "python"
    }
  },
  "cells": [
    {
      "cell_type": "markdown",
      "metadata": {
        "id": "view-in-github",
        "colab_type": "text"
      },
      "source": [
        "<a href=\"https://colab.research.google.com/github/CarmenSosaO/SosaOrtizCarmenEstructuraDatos/blob/main/arregloADT.ipynb\" target=\"_parent\"><img src=\"https://colab.research.google.com/assets/colab-badge.svg\" alt=\"Open In Colab\"/></a>"
      ]
    },
    {
      "cell_type": "code",
      "execution_count": null,
      "metadata": {
        "id": "FlhJpErYaxlV"
      },
      "outputs": [],
      "source": [
        "from typing_extensions import Self\n",
        "class ArregloADT(object):\n",
        "    tamanio = 0\n",
        "    array =[]\n",
        "    indice = 0\n",
        "    valor = 0\n",
        "   \n",
        "    \n",
        "    def __init__(self,tamanio):\n",
        "        self.tamanio=tamanio\n",
        "        self.array=[0 for x in range(self.tamanio)]\n",
        "\n",
        "    def lenght(self):\n",
        "        self.tamanio = int(input(\"Escriba cuántos elementos tendrá su lista: \"))\n",
        "        return  self.tamanio\n",
        "\n",
        "\n",
        "    def setElemento( indice,valor ):\n",
        "        Self.indice = int(input(f\"elija la posición de la lista entre el 0 y el {Self.tamanio-1}\"))\n",
        "        Self.valor = str(input(\"Escriba el valor: \"))\n",
        "        Self.array [indice,valor]\n",
        "\n",
        "    def getElemento( indice ):\n",
        "        Self.indice = int(input(f\"elija la posición de la lista entre el 0 y el {Self.tamanio-1}\"))\n",
        "        Self.array[indice]\n",
        "        return Self.valor\n",
        "\n",
        "    def limpiar( valor ):\n",
        "        Self.valor = str(input(\"Escriba el valor: \"))\n",
        "        Self.array[(0 for x in range(Self.tamanio)),valor]\n",
        "        print (array)\n",
        "\n",
        "\n",
        "def main():\n",
        "    lista1 =ArregloADT(object)\n",
        "    lista1.lenght()\n",
        "    lista1.setElemento()\n",
        "    lista1.getElemento()\n",
        "        \n",
        "if __name__==\"main\":\n",
        "    main()    \n",
        "\n",
        "\n"
      ]
    }
  ]
}